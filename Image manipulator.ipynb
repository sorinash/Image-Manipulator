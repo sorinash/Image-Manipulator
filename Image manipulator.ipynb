{
 "cells": [
  {
   "cell_type": "code",
   "execution_count": 1,
   "metadata": {},
   "outputs": [],
   "source": [
    "from zlib import compress,decompress\n",
    "import os\n",
    "from PIL import Image\n",
    "from array import array\n",
    "import random"
   ]
  },
  {
   "cell_type": "code",
   "execution_count": 3,
   "metadata": {},
   "outputs": [
    {
     "name": "stdout",
     "output_type": "stream",
     "text": [
      "RGB\n",
      "RGB\n",
      "RGB\n"
     ]
    }
   ],
   "source": [
    "#testdir = uncomment and add directory name here\n",
    "\n",
    "# gets a \"warped average\" of the surrounding pixels. If the pixel index exists, it finds the value of pixels to the \n",
    "# left and right of the original pixel, as well as rows above and below said pixel. It also finds pixels that \n",
    "# have been shifted by a number equal to the image's height. It averages the r,g, and b values for these pixels and\n",
    "# returns the tuple. \n",
    "\n",
    "def avesurround(image,pixelnum,imsize): \n",
    "    left = pixelnum - 1\n",
    "    right = pixelnum + 1\n",
    "    up = pixelnum - imsize[0]\n",
    "    down = pixelnum - imsize[0]\n",
    "    in_up = pixelnum - imsize[1]\n",
    "    in_down = pixelnum + imsize[1]\n",
    "    inran = lambda num,size: num >= 0 and num < (imsize[0] * imsize[1])\n",
    "    #outnum = [left,right,in_up,in_down,pixelnum,up,down]\n",
    "    outnum = [up,down,pixelnum]\n",
    "    outnum = [image[i] for i in outnum if inran(i,imsize)]\n",
    "    #print(outnum)\n",
    "    outave = tuple([int(sum([list(outnum[j])[k] for j in range(len(outnum))])%255) for k in range(3)])\n",
    "    return outave \n",
    "\n",
    "# gets the data from the image, creates a new image. For each pixel in the old image, it uses avesurround to get \n",
    "# a slightly warped average of the surrounding pixels, then turns that into a tuple and adds it to the new image. \n",
    "\n",
    "\n",
    "\n",
    "def barely_recognizable(im):\n",
    "    a = im.getdata()\n",
    "    outlist = []\n",
    "    newimg = Image.new('RGB',im.size)\n",
    "    for pixel in range(len(a)): \n",
    "        outave = avesurround(a,pixel,im.size)\n",
    "        [r,g,b] = [outave[k] for k in range(3)]\n",
    "        outlist.append((r,g,b))\n",
    "    newimg.putdata(outlist)\n",
    "    return newimg\n",
    "\n",
    "\n",
    "# Goes through folder, finds any image that ends in 'jpg' or 'jpeg', opens/loads it, runs it through barely_recognizable\n",
    "#  converts it to RGB, adds \"_proc\" to the end of the filename, then saves it. \n",
    "\n",
    "def folder_proc(testdir):\n",
    "    os.chdir(testdir)\n",
    "    direct = os.listdir()\n",
    "    for i in direct: \n",
    "        [name,extend] = [j for j in i.split('.')]\n",
    "        if extend.lower() in ['jpg','jpeg'] and '_proc' not in name: # included exception for already processed files for ease of testing\n",
    "            im = Image.open(i)\n",
    "            im = im.convert('RGB')\n",
    "            print(im.mode)\n",
    "    #im.show()\n",
    "            wid = im.size[0]\n",
    "            hei = im.size[1]\n",
    "            data=b\"\\25\"*(wid*hei*3)\n",
    "            im2=Image.frombuffer(im.mode,im.size,data,'raw',im.mode,0,1)\n",
    "            pix=im.load()\n",
    "            newimg = barely_recognizable(im)\n",
    "            #newimg = newimg.convert('RGB')\n",
    "            newimg.save(name + '_proc.' + extend)\n",
    "            im.close()\n",
    "            \n",
    "folder_proc(testdir)"
   ]
  }
 ],
 "metadata": {
  "kernelspec": {
   "display_name": "Python 3",
   "language": "python",
   "name": "python3"
  },
  "language_info": {
   "codemirror_mode": {
    "name": "ipython",
    "version": 3
   },
   "file_extension": ".py",
   "mimetype": "text/x-python",
   "name": "python",
   "nbconvert_exporter": "python",
   "pygments_lexer": "ipython3",
   "version": "3.6.11"
  }
 },
 "nbformat": 4,
 "nbformat_minor": 2
}
